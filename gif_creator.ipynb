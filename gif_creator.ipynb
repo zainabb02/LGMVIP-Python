{
  "nbformat": 4,
  "nbformat_minor": 0,
  "metadata": {
    "colab": {
      "provenance": [],
      "include_colab_link": true
    },
    "kernelspec": {
      "name": "python3",
      "display_name": "Python 3"
    },
    "language_info": {
      "name": "python"
    }
  },
  "cells": [
    {
      "cell_type": "markdown",
      "metadata": {
        "id": "view-in-github",
        "colab_type": "text"
      },
      "source": [
        "<a href=\"https://colab.research.google.com/github/zainabb02/LGMVIP-Python/blob/main/gif_creator.ipynb\" target=\"_parent\"><img src=\"https://colab.research.google.com/assets/colab-badge.svg\" alt=\"Open In Colab\"/></a>"
      ]
    },
    {
      "cell_type": "code",
      "execution_count": null,
      "metadata": {
        "colab": {
          "base_uri": "https://localhost:8080/"
        },
        "id": "hfq6A4SumiN1",
        "outputId": "0ca8ac6c-f691-4331-a5ec-2bcb8eed22d3"
      },
      "outputs": [
        {
          "output_type": "stream",
          "name": "stdout",
          "text": [
            "Requirement already satisfied: moviepy in /usr/local/lib/python3.10/dist-packages (1.0.3)\n",
            "Requirement already satisfied: decorator<5.0,>=4.0.2 in /usr/local/lib/python3.10/dist-packages (from moviepy) (4.4.2)\n",
            "Requirement already satisfied: tqdm<5.0,>=4.11.2 in /usr/local/lib/python3.10/dist-packages (from moviepy) (4.66.2)\n",
            "Requirement already satisfied: requests<3.0,>=2.8.1 in /usr/local/lib/python3.10/dist-packages (from moviepy) (2.31.0)\n",
            "Requirement already satisfied: proglog<=1.0.0 in /usr/local/lib/python3.10/dist-packages (from moviepy) (0.1.10)\n",
            "Requirement already satisfied: numpy>=1.17.3 in /usr/local/lib/python3.10/dist-packages (from moviepy) (1.25.2)\n",
            "Requirement already satisfied: imageio<3.0,>=2.5 in /usr/local/lib/python3.10/dist-packages (from moviepy) (2.31.6)\n",
            "Requirement already satisfied: imageio-ffmpeg>=0.2.0 in /usr/local/lib/python3.10/dist-packages (from moviepy) (0.4.9)\n",
            "Requirement already satisfied: pillow<10.1.0,>=8.3.2 in /usr/local/lib/python3.10/dist-packages (from imageio<3.0,>=2.5->moviepy) (9.4.0)\n",
            "Requirement already satisfied: setuptools in /usr/local/lib/python3.10/dist-packages (from imageio-ffmpeg>=0.2.0->moviepy) (67.7.2)\n",
            "Requirement already satisfied: charset-normalizer<4,>=2 in /usr/local/lib/python3.10/dist-packages (from requests<3.0,>=2.8.1->moviepy) (3.3.2)\n",
            "Requirement already satisfied: idna<4,>=2.5 in /usr/local/lib/python3.10/dist-packages (from requests<3.0,>=2.8.1->moviepy) (3.6)\n",
            "Requirement already satisfied: urllib3<3,>=1.21.1 in /usr/local/lib/python3.10/dist-packages (from requests<3.0,>=2.8.1->moviepy) (2.0.7)\n",
            "Requirement already satisfied: certifi>=2017.4.17 in /usr/local/lib/python3.10/dist-packages (from requests<3.0,>=2.8.1->moviepy) (2024.2.2)\n"
          ]
        }
      ],
      "source": [
        "!pip install moviepy\n",
        "from moviepy.editor import ImageSequenceClip"
      ]
    },
    {
      "cell_type": "code",
      "source": [
        "import numpy as np\n",
        "import os as os\n",
        "\n",
        "from PIL import Image\n",
        "\n",
        "\n",
        "def create_gif(image_files, output_file, fps=10):\n",
        "    # Check the extensions of the image files\n",
        "    print(\"Image file extensions:\")\n",
        "    for image_file in image_files:\n",
        "        _, ext = os.path.splitext(image_file)\n",
        "        print(ext)\n",
        "\n",
        "    # Check if the image files are in a supported format\n",
        "    if not all(image_file.lower().endswith(('.jpg', '.jpeg', '.png', '.gif')) for image_file in image_files):\n",
        "        print(\"Error: Image files must be in JPG, JPEG, PNG, or GIF format.\")\n",
        "        return\n",
        "\n",
        "    # Load and resize the images\n",
        "    images = []\n",
        "    width = 100\n",
        "    height = 100\n",
        "    target_size = (width, height)\n",
        "\n",
        "    for image_file in image_files:\n",
        "        img = Image.open(image_file)\n",
        "        img = img.resize(target_size)\n",
        "        images.append(img)\n",
        "        print(f\"Loaded image: {image_file}, Type: {type(img)}\")\n",
        "\n",
        "    # Convert PIL images to NumPy arrays\n",
        "    images = [np.array(img) for img in images]\n",
        "\n",
        "    print(\"First few elements of images list:\")\n",
        "    print(images[:3])  # Print the first three elements of the images list\n",
        "\n",
        "    # Create the GIF\n",
        "    clip = ImageSequenceClip(images, fps=fps)\n",
        "    clip.write_gif(output_file)\n",
        "\n",
        "# List of image filenames with their paths\n",
        "image_files = ['/content/image_1.jpg', '/content/image_2.jpg', '/content/image_3.jpg']\n",
        "# Output file name for the GIF\n",
        "output_file = '/content/output.gif'\n",
        "\n",
        "create_gif(image_files, output_file)"
      ],
      "metadata": {
        "colab": {
          "base_uri": "https://localhost:8080/"
        },
        "id": "Ilki2dIGm1JN",
        "outputId": "fc26625d-19de-48ac-89f8-8c1e85b565f4"
      },
      "execution_count": null,
      "outputs": [
        {
          "output_type": "stream",
          "name": "stdout",
          "text": [
            "Image file extensions:\n",
            ".jpg\n",
            ".jpg\n",
            ".jpg\n",
            "Loaded image: /content/image_1.jpg, Type: <class 'PIL.Image.Image'>\n",
            "Loaded image: /content/image_2.jpg, Type: <class 'PIL.Image.Image'>\n",
            "Loaded image: /content/image_3.jpg, Type: <class 'PIL.Image.Image'>\n",
            "First few elements of images list:\n",
            "[array([[[255, 255, 255],\n",
            "        [255, 255, 255],\n",
            "        [255, 255, 255],\n",
            "        ...,\n",
            "        [255, 255, 255],\n",
            "        [255, 255, 255],\n",
            "        [255, 255, 255]],\n",
            "\n",
            "       [[255, 255, 255],\n",
            "        [255, 255, 255],\n",
            "        [255, 255, 255],\n",
            "        ...,\n",
            "        [255, 255, 255],\n",
            "        [255, 255, 255],\n",
            "        [255, 255, 255]],\n",
            "\n",
            "       [[255, 255, 255],\n",
            "        [255, 255, 255],\n",
            "        [255, 255, 255],\n",
            "        ...,\n",
            "        [255, 255, 255],\n",
            "        [255, 255, 255],\n",
            "        [255, 255, 255]],\n",
            "\n",
            "       ...,\n",
            "\n",
            "       [[255, 255, 255],\n",
            "        [255, 255, 255],\n",
            "        [255, 255, 255],\n",
            "        ...,\n",
            "        [255, 255, 255],\n",
            "        [255, 255, 255],\n",
            "        [255, 255, 255]],\n",
            "\n",
            "       [[255, 255, 255],\n",
            "        [255, 255, 255],\n",
            "        [255, 255, 255],\n",
            "        ...,\n",
            "        [255, 255, 255],\n",
            "        [255, 255, 255],\n",
            "        [255, 255, 255]],\n",
            "\n",
            "       [[255, 255, 255],\n",
            "        [255, 255, 255],\n",
            "        [255, 255, 255],\n",
            "        ...,\n",
            "        [255, 255, 255],\n",
            "        [255, 255, 255],\n",
            "        [255, 255, 255]]], dtype=uint8), array([[[102, 204, 102],\n",
            "        [102, 204, 102],\n",
            "        [102, 204, 102],\n",
            "        ...,\n",
            "        [102, 204, 102],\n",
            "        [102, 204, 102],\n",
            "        [102, 204, 102]],\n",
            "\n",
            "       [[102, 204, 102],\n",
            "        [102, 204, 102],\n",
            "        [102, 204, 102],\n",
            "        ...,\n",
            "        [102, 204, 102],\n",
            "        [102, 204, 102],\n",
            "        [102, 204, 102]],\n",
            "\n",
            "       [[102, 204, 102],\n",
            "        [102, 204, 102],\n",
            "        [102, 204, 102],\n",
            "        ...,\n",
            "        [102, 204, 102],\n",
            "        [102, 204, 102],\n",
            "        [102, 204, 102]],\n",
            "\n",
            "       ...,\n",
            "\n",
            "       [[102, 204, 102],\n",
            "        [102, 204, 102],\n",
            "        [102, 204, 102],\n",
            "        ...,\n",
            "        [102, 204, 102],\n",
            "        [102, 204, 102],\n",
            "        [102, 204, 102]],\n",
            "\n",
            "       [[102, 204, 102],\n",
            "        [102, 204, 102],\n",
            "        [102, 204, 102],\n",
            "        ...,\n",
            "        [102, 204, 102],\n",
            "        [102, 204, 102],\n",
            "        [102, 204, 102]],\n",
            "\n",
            "       [[102, 204, 102],\n",
            "        [102, 204, 102],\n",
            "        [102, 204, 102],\n",
            "        ...,\n",
            "        [102, 204, 102],\n",
            "        [102, 204, 102],\n",
            "        [102, 204, 102]]], dtype=uint8), array([[[102, 204, 102],\n",
            "        [102, 204, 102],\n",
            "        [102, 204, 102],\n",
            "        ...,\n",
            "        [102, 204, 102],\n",
            "        [102, 204, 102],\n",
            "        [102, 204, 102]],\n",
            "\n",
            "       [[102, 204, 102],\n",
            "        [102, 204, 102],\n",
            "        [102, 204, 102],\n",
            "        ...,\n",
            "        [102, 204, 102],\n",
            "        [102, 204, 102],\n",
            "        [102, 204, 102]],\n",
            "\n",
            "       [[102, 204, 102],\n",
            "        [102, 204, 102],\n",
            "        [102, 204, 102],\n",
            "        ...,\n",
            "        [102, 204, 102],\n",
            "        [102, 204, 102],\n",
            "        [102, 204, 102]],\n",
            "\n",
            "       ...,\n",
            "\n",
            "       [[102, 204, 102],\n",
            "        [102, 204, 102],\n",
            "        [102, 204, 102],\n",
            "        ...,\n",
            "        [102, 204, 102],\n",
            "        [102, 204, 102],\n",
            "        [102, 204, 102]],\n",
            "\n",
            "       [[102, 204, 102],\n",
            "        [102, 204, 102],\n",
            "        [102, 204, 102],\n",
            "        ...,\n",
            "        [102, 204, 102],\n",
            "        [102, 204, 102],\n",
            "        [102, 204, 102]],\n",
            "\n",
            "       [[102, 204, 102],\n",
            "        [102, 204, 102],\n",
            "        [102, 204, 102],\n",
            "        ...,\n",
            "        [102, 204, 102],\n",
            "        [102, 204, 102],\n",
            "        [102, 204, 102]]], dtype=uint8)]\n",
            "MoviePy - Building file /content/output.gif with imageio.\n"
          ]
        },
        {
          "output_type": "stream",
          "name": "stderr",
          "text": []
        }
      ]
    },
    {
      "cell_type": "code",
      "source": [
        "# Display the generated GIF\n",
        "from IPython.display import display, Image\n",
        "display(Image(filename=output_file))"
      ],
      "metadata": {
        "id": "wkw_-Xs0m9Tl",
        "outputId": "9c697655-1317-4612-dd7c-ecadcd4fd4e1",
        "colab": {
          "base_uri": "https://localhost:8080/",
          "height": 117
        }
      },
      "execution_count": null,
      "outputs": [
        {
          "output_type": "display_data",
          "data": {
            "image/gif": "[encoded data removed]",
            "text/plain": [
              "<IPython.core.display.Image object>"
            ]
          },
          "metadata": {}
        }
      ]
    },
    {
      "cell_type": "code",
      "source": [
        "from google.colab import drive\n",
        "drive.mount('/content/drive')"
      ],
      "metadata": {
        "colab": {
          "base_uri": "https://localhost:8080/"
        },
        "id": "eKx6LTvackSA",
        "outputId": "9232af88-a541-4536-b7a7-875fd37c931c"
      },
      "execution_count": null,
      "outputs": [
        {
          "output_type": "stream",
          "name": "stdout",
          "text": [
            "Drive already mounted at /content/drive; to attempt to forcibly remount, call drive.mount(\"/content/drive\", force_remount=True).\n"
          ]
        }
      ]
    }
  ]
}