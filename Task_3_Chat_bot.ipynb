{
  "cells": [
    {
      "cell_type": "markdown",
      "metadata": {
        "id": "view-in-github",
        "colab_type": "text"
      },
      "source": [
        "<a href=\"https://colab.research.google.com/github/zainabb02/LGMVIP-Python/blob/main/Task_3_Chat_bot.ipynb\" target=\"_parent\"><img src=\"https://colab.research.google.com/assets/colab-badge.svg\" alt=\"Open In Colab\"/></a>"
      ]
    },
    {
      "cell_type": "markdown",
      "metadata": {
        "id": "8ox4SVqYiS_e"
      },
      "source": [
        "LGM Task 3: Chatbot using Python"
      ]
    },
    {
      "cell_type": "markdown",
      "metadata": {
        "id": "tx8Ovog9ogYM"
      },
      "source": [
        "Install NLTK"
      ]
    },
    {
      "cell_type": "code",
      "execution_count": null,
      "metadata": {
        "id": "mGDs1rAsm85c"
      },
      "outputs": [],
      "source": [
        "import nltk\n",
        "import string\n",
        "import random"
      ]
    },
    {
      "cell_type": "markdown",
      "metadata": {
        "id": "vfwbeiOHoroo"
      },
      "source": [
        "Import NLTK and Download Resources"
      ]
    },
    {
      "cell_type": "code",
      "execution_count": null,
      "metadata": {
        "id": "TvCCvBYOGKEb"
      },
      "outputs": [],
      "source": [
        "from sklearn.feature_extraction.text import TfidfVectorizer\n",
        "from sklearn.metrics.pairwise import cosine_similarity"
      ]
    },
    {
      "cell_type": "code",
      "execution_count": null,
      "metadata": {
        "id": "adyGfQ9Xn4vK",
        "colab": {
          "base_uri": "https://localhost:8080/"
        },
        "outputId": "6d6efb58-912a-40de-8310-af79d1b5bfd5"
      },
      "outputs": [
        {
          "output_type": "stream",
          "name": "stderr",
          "text": [
            "[nltk_data] Downloading package punkt to /root/nltk_data...\n",
            "[nltk_data]   Package punkt is already up-to-date!\n",
            "[nltk_data] Downloading package wordnet to /root/nltk_data...\n",
            "[nltk_data]   Package wordnet is already up-to-date!\n"
          ]
        },
        {
          "output_type": "execute_result",
          "data": {
            "text/plain": [
              "True"
            ]
          },
          "metadata": {},
          "execution_count": 9
        }
      ],
      "source": [
        "# Install NLTK and download necessary resources\n",
        "nltk.download('punkt')\n",
        "nltk.download('wordnet')"
      ]
    },
    {
      "cell_type": "markdown",
      "metadata": {
        "id": "tb4ErjzFoO_d"
      },
      "source": [
        "Load and Preprocess Dataset"
      ]
    },
    {
      "cell_type": "code",
      "execution_count": null,
      "metadata": {
        "id": "ZLVsMNoRoFq-"
      },
      "outputs": [],
      "source": [
        "# Read dataset file\n",
        "with open('dataset.txt', 'r', errors='ignore') as f:\n",
        "    raw_doc = f.read().lower()\n",
        "\n",
        "# Tokenize the document\n",
        "sent_tokens = nltk.sent_tokenize(raw_doc)  # List of sentences\n",
        "word_tokens = nltk.word_tokenize(raw_doc)  # List of words\n",
        "\n",
        "# Define lemmatization function\n",
        "lemmer = nltk.stem.WordNetLemmatizer()\n",
        "def LemTokens(tokens):\n",
        "    return [lemmer.lemmatize(token) for token in tokens]\n",
        "\n",
        "# Define function for text normalization\n",
        "remove_punct_dict = dict((ord(punct), None) for punct in string.punctuation)\n",
        "def LemNormalize(text):\n",
        "    return LemTokens(nltk.word_tokenize(text.lower().translate(remove_punct_dict)))"
      ]
    },
    {
      "cell_type": "markdown",
      "metadata": {
        "id": "mgM4GypVoxZQ"
      },
      "source": [
        "Define Greeting and Response Functions"
      ]
    },
    {
      "cell_type": "code",
      "execution_count": null,
      "metadata": {
        "id": "93LzZ5BBozNi"
      },
      "outputs": [],
      "source": [
        "\n",
        "# Define greeting inputs and responses\n",
        "GREET_INPUTS = (\"hello\", \"hi\", \"greetings\", \"sup\", \"what's up\", \"hey\")\n",
        "GREET_RESPONSES = [\"hi\", \"hey\", \"* nods *\", \"hi there\", \"hello\", \"I am glad! You are talking to me\"]\n",
        "GREET_INPUTS = (\"what is pytho\", \"tell me about python\")\n",
        "GREET_RESPONSES = [\"Python is an interpreted, object-oriented, high-level language programming language with dynamic semantics, built in data structures\", \"Python's simple, easy to learn syntax emphasizes readability and therefore reduces the cost of program maintenance.\"]\n",
        "\n",
        "# Define greeting function\n",
        "def greet(sentence):\n",
        "    for word in sentence.split():\n",
        "        if word.lower() in GREET_INPUTS:\n",
        "            return random.choice(GREET_RESPONSES)\n",
        "\n",
        "# Define response generation function\n",
        "def response(user_response):\n",
        "    robo1_response = ' '\n",
        "\n",
        "    TfidfVec = TfidfVectorizer(tokenizer=None, stop_words='english')\n",
        "    tfidf = TfidfVec.fit_transform(sent_tokens)\n",
        "\n",
        "    # Add the user's response to the set of sentences\n",
        "    sent_tokens.append(user_response)\n",
        "\n",
        "    # Compute similarity between the user's response and all sentences\n",
        "    vals = cosine_similarity(tfidf[-1], tfidf)\n",
        "    idx = vals.argsort()[0][-2]\n",
        "\n",
        "    # Sort the cosine similarity scores\n",
        "    flat = vals.flatten()\n",
        "    flat.sort()\n",
        "    req_tfidf = flat[-2]\n",
        "\n",
        "    if req_tfidf == 0:\n",
        "        robo1_response = robo1_response + \"I am sorry! I don't understand you\"\n",
        "    else:\n",
        "        robo1_response = robo1_response + sent_tokens[idx]\n",
        "\n",
        "    # Remove the user's response from the set of sentences\n",
        "    sent_tokens.pop(-1)\n",
        "\n",
        "    return robo1_response"
      ]
    },
    {
      "cell_type": "markdown",
      "metadata": {
        "id": "bo5Vrtabo5jI"
      },
      "source": [
        "Chatbot Interaction Loop"
      ]
    },
    {
      "cell_type": "code",
      "execution_count": null,
      "metadata": {
        "colab": {
          "base_uri": "https://localhost:8080/"
        },
        "id": "99o_n3s86WiV",
        "outputId": "3d4c1757-11ca-457a-b241-d48bb5055d7c"
      },
      "outputs": [
        {
          "output_type": "stream",
          "name": "stdout",
          "text": [
            "BOT: My name is Bot. How can I assist you today? If you want to exit any time, just type Bye!\n",
            "You: thanks\n",
            "BOT: You are welcome..\n"
          ]
        }
      ],
      "source": [
        "flag = True\n",
        "print(\"BOT: My name is Bot. How can I assist you today? If you want to exit any time, just type Bye!\")\n",
        "\n",
        "while flag:\n",
        "    try:\n",
        "        user_response = input(\"You: \").lower()\n",
        "\n",
        "        if user_response != 'bye':\n",
        "            if user_response == 'thanks' or user_response == 'thank you':\n",
        "                flag = False\n",
        "                print(\"BOT: You are welcome..\")\n",
        "            else:\n",
        "                if greet(user_response) is not None:\n",
        "                    print(\"BOT: \" + greet(user_response))\n",
        "                else:\n",
        "                    print(\"BOT: \", response(user_response))\n",
        "        else:\n",
        "            flag = False\n",
        "            print(\"BOT: Goodbye! Take care <3\")\n",
        "    except KeyboardInterrupt:\n",
        "        print(\"\\nBOT: You interrupted the conversation. Goodbye!\")\n",
        "        break"
      ]
    }
  ],
  "metadata": {
    "colab": {
      "provenance": [],
      "include_colab_link": true
    },
    "kernelspec": {
      "display_name": "Python 3",
      "name": "python3"
    },
    "language_info": {
      "name": "python"
    }
  },
  "nbformat": 4,
  "nbformat_minor": 0
}